{
 "cells": [
  {
   "cell_type": "code",
   "execution_count": 1,
   "metadata": {
    "id": "1fq5AUkkRxYB"
   },
   "outputs": [],
   "source": [
    "import numpy as np\n",
    "import pandas as pd\n",
    "import matplotlib.pyplot as plt\n",
    "from matplotlib.lines import Line2D\n",
    "import seaborn as sns\n",
    "\n",
    "\n",
    "import warnings\n",
    "warnings.simplefilter('ignore')\n",
    "\n"
   ]
  },
  {
   "cell_type": "code",
   "execution_count": 2,
   "metadata": {
    "colab": {
     "base_uri": "https://localhost:8080/",
     "height": 597
    },
    "id": "WFOCMV35SJI9",
    "outputId": "ba5efa09-c9a1-49ce-aed5-cb83f6957b80"
   },
   "outputs": [
    {
     "data": {
      "text/html": [
       "<div>\n",
       "<style scoped>\n",
       "    .dataframe tbody tr th:only-of-type {\n",
       "        vertical-align: middle;\n",
       "    }\n",
       "\n",
       "    .dataframe tbody tr th {\n",
       "        vertical-align: top;\n",
       "    }\n",
       "\n",
       "    .dataframe thead th {\n",
       "        text-align: right;\n",
       "    }\n",
       "</style>\n",
       "<table border=\"1\" class=\"dataframe\">\n",
       "  <thead>\n",
       "    <tr style=\"text-align: right;\">\n",
       "      <th></th>\n",
       "      <th>Timestamp</th>\n",
       "      <th>Email address</th>\n",
       "      <th>Name</th>\n",
       "      <th>Enrollment</th>\n",
       "      <th>Semester</th>\n",
       "      <th>Department</th>\n",
       "      <th>Do you live near university or far?</th>\n",
       "      <th>Are you satisfied by the services provided by cafeteria/wow fries?</th>\n",
       "      <th>If you chose not satisfied, can you please tell us why?</th>\n",
       "      <th>Do you have breakfast in university or at home?</th>\n",
       "      <th>If in University, than why not at home?</th>\n",
       "      <th>Do you think it will be nice to have a proper breakfast menu in cafeteria/wow fries?</th>\n",
       "      <th>What should be available in the breakfast menu if offered by cafeteria/wow fries?</th>\n",
       "      <th>How much should price vary for breakfast?</th>\n",
       "      <th>what should be the timings for breakfast?</th>\n",
       "    </tr>\n",
       "  </thead>\n",
       "  <tbody>\n",
       "    <tr>\n",
       "      <th>0</th>\n",
       "      <td>17/12/2022 15:55</td>\n",
       "      <td>NaN</td>\n",
       "      <td>Awais Arshad</td>\n",
       "      <td>02-134201-038</td>\n",
       "      <td>6th Semester</td>\n",
       "      <td>BSCS/IT</td>\n",
       "      <td>Not so far</td>\n",
       "      <td>No</td>\n",
       "      <td>Because they just have brunch items and too ma...</td>\n",
       "      <td>sometimes at home, sometimes at university</td>\n",
       "      <td>Make my own breakfast and eat in university</td>\n",
       "      <td>Yes</td>\n",
       "      <td>Anda Paratha, Toast &amp; Omlette</td>\n",
       "      <td>150-200</td>\n",
       "      <td>7am-11am</td>\n",
       "    </tr>\n",
       "    <tr>\n",
       "      <th>1</th>\n",
       "      <td>17/12/2022 16:07</td>\n",
       "      <td>NaN</td>\n",
       "      <td>MANAHIL SHAMIM</td>\n",
       "      <td>02-134201-055</td>\n",
       "      <td>6th Semester</td>\n",
       "      <td>BSCS/IT</td>\n",
       "      <td>Near</td>\n",
       "      <td>Maybe</td>\n",
       "      <td>NaN</td>\n",
       "      <td>sometimes at home, sometimes at university</td>\n",
       "      <td>Get up just in time to get to class</td>\n",
       "      <td>Yes</td>\n",
       "      <td>Toast &amp; Omlette, Halwa puri</td>\n",
       "      <td>200-250</td>\n",
       "      <td>7am-11am</td>\n",
       "    </tr>\n",
       "    <tr>\n",
       "      <th>2</th>\n",
       "      <td>17/12/2022 16:08</td>\n",
       "      <td>NaN</td>\n",
       "      <td>Umer Arshad</td>\n",
       "      <td>NaN</td>\n",
       "      <td>7th Semester</td>\n",
       "      <td>Management Sciences</td>\n",
       "      <td>Not so far</td>\n",
       "      <td>No</td>\n",
       "      <td>Too many options but none of them for breakfast.</td>\n",
       "      <td>sometimes at home, sometimes at university</td>\n",
       "      <td>Get up just in time to get to class</td>\n",
       "      <td>Yes</td>\n",
       "      <td>Anda Paratha, Toast &amp; Omlette, Coffee</td>\n",
       "      <td>150-200</td>\n",
       "      <td>7am-11am</td>\n",
       "    </tr>\n",
       "    <tr>\n",
       "      <th>3</th>\n",
       "      <td>17/12/2022 16:29</td>\n",
       "      <td>NaN</td>\n",
       "      <td>Muhammad Shehroz</td>\n",
       "      <td>02-134201-075</td>\n",
       "      <td>6th Semester</td>\n",
       "      <td>BSCS/IT</td>\n",
       "      <td>Far</td>\n",
       "      <td>No</td>\n",
       "      <td>There's probably nothing to eat, and the thing...</td>\n",
       "      <td>sometimes at home, sometimes at university</td>\n",
       "      <td>Don't like asking mom or anyone to make it eve...</td>\n",
       "      <td>Yes</td>\n",
       "      <td>Anda Paratha, Toast &amp; Omlette, Coffee</td>\n",
       "      <td>200-250</td>\n",
       "      <td>7am-10am</td>\n",
       "    </tr>\n",
       "    <tr>\n",
       "      <th>4</th>\n",
       "      <td>17/12/2022 16:31</td>\n",
       "      <td>NaN</td>\n",
       "      <td>Tooba Iftikhar</td>\n",
       "      <td>02-112222-121</td>\n",
       "      <td>1st Semster</td>\n",
       "      <td>Accounts &amp; Finance</td>\n",
       "      <td>Near</td>\n",
       "      <td>No</td>\n",
       "      <td>Prices are so high</td>\n",
       "      <td>sometimes at home, sometimes at university</td>\n",
       "      <td>Get up just in time to get to class</td>\n",
       "      <td>Yes</td>\n",
       "      <td>Anda Paratha, Toast &amp; Omlette, Coffee, Halwa puri</td>\n",
       "      <td>150-200</td>\n",
       "      <td>8am-11am</td>\n",
       "    </tr>\n",
       "  </tbody>\n",
       "</table>\n",
       "</div>"
      ],
      "text/plain": [
       "          Timestamp Email address               Name    Enrollment   \\\n",
       "0  17/12/2022 15:55           NaN       Awais Arshad  02-134201-038   \n",
       "1  17/12/2022 16:07           NaN     MANAHIL SHAMIM  02-134201-055   \n",
       "2  17/12/2022 16:08           NaN        Umer Arshad            NaN   \n",
       "3  17/12/2022 16:29           NaN  Muhammad Shehroz   02-134201-075   \n",
       "4  17/12/2022 16:31           NaN    Tooba Iftikhar   02-112222-121   \n",
       "\n",
       "       Semester           Department Do you live near university or far?  \\\n",
       "0  6th Semester              BSCS/IT                          Not so far   \n",
       "1  6th Semester              BSCS/IT                                Near   \n",
       "2  7th Semester  Management Sciences                          Not so far   \n",
       "3  6th Semester              BSCS/IT                                 Far   \n",
       "4   1st Semster   Accounts & Finance                                Near   \n",
       "\n",
       "  Are you satisfied by the services provided by cafeteria/wow fries?  \\\n",
       "0                                                 No                   \n",
       "1                                              Maybe                   \n",
       "2                                                 No                   \n",
       "3                                                 No                   \n",
       "4                                                 No                   \n",
       "\n",
       "  If you chose not satisfied, can you please tell us why?  \\\n",
       "0  Because they just have brunch items and too ma...        \n",
       "1                                                NaN        \n",
       "2  Too many options but none of them for breakfast.         \n",
       "3  There's probably nothing to eat, and the thing...        \n",
       "4                                Prices are so high         \n",
       "\n",
       "  Do you have breakfast in university or at home?  \\\n",
       "0      sometimes at home, sometimes at university   \n",
       "1      sometimes at home, sometimes at university   \n",
       "2      sometimes at home, sometimes at university   \n",
       "3      sometimes at home, sometimes at university   \n",
       "4      sometimes at home, sometimes at university   \n",
       "\n",
       "             If in University, than why not at home?  \\\n",
       "0        Make my own breakfast and eat in university   \n",
       "1                Get up just in time to get to class   \n",
       "2                Get up just in time to get to class   \n",
       "3  Don't like asking mom or anyone to make it eve...   \n",
       "4                Get up just in time to get to class   \n",
       "\n",
       "  Do you think it will be nice to have a proper breakfast menu in cafeteria/wow fries?  \\\n",
       "0                                                Yes                                     \n",
       "1                                                Yes                                     \n",
       "2                                                Yes                                     \n",
       "3                                                Yes                                     \n",
       "4                                                Yes                                     \n",
       "\n",
       "  What should be available in the breakfast menu if offered by cafeteria/wow fries?  \\\n",
       "0                      Anda Paratha, Toast & Omlette                                  \n",
       "1                        Toast & Omlette, Halwa puri                                  \n",
       "2              Anda Paratha, Toast & Omlette, Coffee                                  \n",
       "3              Anda Paratha, Toast & Omlette, Coffee                                  \n",
       "4  Anda Paratha, Toast & Omlette, Coffee, Halwa puri                                  \n",
       "\n",
       "  How much should price vary for breakfast?  \\\n",
       "0                                   150-200   \n",
       "1                                   200-250   \n",
       "2                                   150-200   \n",
       "3                                   200-250   \n",
       "4                                   150-200   \n",
       "\n",
       "  what should be the timings for breakfast?  \n",
       "0                                  7am-11am  \n",
       "1                                  7am-11am  \n",
       "2                                  7am-11am  \n",
       "3                                  7am-10am  \n",
       "4                                  8am-11am  "
      ]
     },
     "execution_count": 2,
     "metadata": {},
     "output_type": "execute_result"
    }
   ],
   "source": [
    "df= pd.read_csv('Breakfast.csv')\n",
    "df.head()"
   ]
  },
  {
   "cell_type": "code",
   "execution_count": 3,
   "metadata": {
    "id": "qGXLG4s-S0Il"
   },
   "outputs": [],
   "source": [
    "shorter_names = [\"Timestamp\",\n",
    "\"Email\",\n",
    "\"Name\",\n",
    "\"Enrollment\",\n",
    "\"Semester\",\n",
    "\"Depart\",\n",
    "\"Distance\",\n",
    "\"Satisfied\",\n",
    "\"Reason\",\n",
    "\"Where_have_breakfast\",\n",
    "\"If_not_home_why\",\n",
    "\"BreakfastMenu_at_cafe\",\n",
    "\"Menu\",\n",
    "\"price\",\n",
    "\"time\"\n",
    "]"
   ]
  },
  {
   "cell_type": "code",
   "execution_count": 4,
   "metadata": {
    "id": "-2tAB_ypVpTz"
   },
   "outputs": [],
   "source": [
    "df.columns=shorter_names"
   ]
  },
  {
   "cell_type": "code",
   "execution_count": 5,
   "metadata": {
    "colab": {
     "base_uri": "https://localhost:8080/",
     "height": 476
    },
    "id": "dBDy6UU3V0gL",
    "outputId": "a162467b-6f98-4570-f038-fba8eb5ac2bc"
   },
   "outputs": [
    {
     "data": {
      "text/html": [
       "<div>\n",
       "<style scoped>\n",
       "    .dataframe tbody tr th:only-of-type {\n",
       "        vertical-align: middle;\n",
       "    }\n",
       "\n",
       "    .dataframe tbody tr th {\n",
       "        vertical-align: top;\n",
       "    }\n",
       "\n",
       "    .dataframe thead th {\n",
       "        text-align: right;\n",
       "    }\n",
       "</style>\n",
       "<table border=\"1\" class=\"dataframe\">\n",
       "  <thead>\n",
       "    <tr style=\"text-align: right;\">\n",
       "      <th></th>\n",
       "      <th>Timestamp</th>\n",
       "      <th>Email</th>\n",
       "      <th>Name</th>\n",
       "      <th>Enrollment</th>\n",
       "      <th>Semester</th>\n",
       "      <th>Depart</th>\n",
       "      <th>Distance</th>\n",
       "      <th>Satisfied</th>\n",
       "      <th>Reason</th>\n",
       "      <th>Where_have_breakfast</th>\n",
       "      <th>If_not_home_why</th>\n",
       "      <th>BreakfastMenu_at_cafe</th>\n",
       "      <th>Menu</th>\n",
       "      <th>price</th>\n",
       "      <th>time</th>\n",
       "    </tr>\n",
       "  </thead>\n",
       "  <tbody>\n",
       "    <tr>\n",
       "      <th>0</th>\n",
       "      <td>17/12/2022 15:55</td>\n",
       "      <td>NaN</td>\n",
       "      <td>Awais Arshad</td>\n",
       "      <td>02-134201-038</td>\n",
       "      <td>6th Semester</td>\n",
       "      <td>BSCS/IT</td>\n",
       "      <td>Not so far</td>\n",
       "      <td>No</td>\n",
       "      <td>Because they just have brunch items and too ma...</td>\n",
       "      <td>sometimes at home, sometimes at university</td>\n",
       "      <td>Make my own breakfast and eat in university</td>\n",
       "      <td>Yes</td>\n",
       "      <td>Anda Paratha, Toast &amp; Omlette</td>\n",
       "      <td>150-200</td>\n",
       "      <td>7am-11am</td>\n",
       "    </tr>\n",
       "    <tr>\n",
       "      <th>1</th>\n",
       "      <td>17/12/2022 16:07</td>\n",
       "      <td>NaN</td>\n",
       "      <td>MANAHIL SHAMIM</td>\n",
       "      <td>02-134201-055</td>\n",
       "      <td>6th Semester</td>\n",
       "      <td>BSCS/IT</td>\n",
       "      <td>Near</td>\n",
       "      <td>Maybe</td>\n",
       "      <td>NaN</td>\n",
       "      <td>sometimes at home, sometimes at university</td>\n",
       "      <td>Get up just in time to get to class</td>\n",
       "      <td>Yes</td>\n",
       "      <td>Toast &amp; Omlette, Halwa puri</td>\n",
       "      <td>200-250</td>\n",
       "      <td>7am-11am</td>\n",
       "    </tr>\n",
       "    <tr>\n",
       "      <th>2</th>\n",
       "      <td>17/12/2022 16:08</td>\n",
       "      <td>NaN</td>\n",
       "      <td>Umer Arshad</td>\n",
       "      <td>NaN</td>\n",
       "      <td>7th Semester</td>\n",
       "      <td>Management Sciences</td>\n",
       "      <td>Not so far</td>\n",
       "      <td>No</td>\n",
       "      <td>Too many options but none of them for breakfast.</td>\n",
       "      <td>sometimes at home, sometimes at university</td>\n",
       "      <td>Get up just in time to get to class</td>\n",
       "      <td>Yes</td>\n",
       "      <td>Anda Paratha, Toast &amp; Omlette, Coffee</td>\n",
       "      <td>150-200</td>\n",
       "      <td>7am-11am</td>\n",
       "    </tr>\n",
       "    <tr>\n",
       "      <th>3</th>\n",
       "      <td>17/12/2022 16:29</td>\n",
       "      <td>NaN</td>\n",
       "      <td>Muhammad Shehroz</td>\n",
       "      <td>02-134201-075</td>\n",
       "      <td>6th Semester</td>\n",
       "      <td>BSCS/IT</td>\n",
       "      <td>Far</td>\n",
       "      <td>No</td>\n",
       "      <td>There's probably nothing to eat, and the thing...</td>\n",
       "      <td>sometimes at home, sometimes at university</td>\n",
       "      <td>Don't like asking mom or anyone to make it eve...</td>\n",
       "      <td>Yes</td>\n",
       "      <td>Anda Paratha, Toast &amp; Omlette, Coffee</td>\n",
       "      <td>200-250</td>\n",
       "      <td>7am-10am</td>\n",
       "    </tr>\n",
       "    <tr>\n",
       "      <th>4</th>\n",
       "      <td>17/12/2022 16:31</td>\n",
       "      <td>NaN</td>\n",
       "      <td>Tooba Iftikhar</td>\n",
       "      <td>02-112222-121</td>\n",
       "      <td>1st Semster</td>\n",
       "      <td>Accounts &amp; Finance</td>\n",
       "      <td>Near</td>\n",
       "      <td>No</td>\n",
       "      <td>Prices are so high</td>\n",
       "      <td>sometimes at home, sometimes at university</td>\n",
       "      <td>Get up just in time to get to class</td>\n",
       "      <td>Yes</td>\n",
       "      <td>Anda Paratha, Toast &amp; Omlette, Coffee, Halwa puri</td>\n",
       "      <td>150-200</td>\n",
       "      <td>8am-11am</td>\n",
       "    </tr>\n",
       "  </tbody>\n",
       "</table>\n",
       "</div>"
      ],
      "text/plain": [
       "          Timestamp Email               Name     Enrollment      Semester  \\\n",
       "0  17/12/2022 15:55   NaN       Awais Arshad  02-134201-038  6th Semester   \n",
       "1  17/12/2022 16:07   NaN     MANAHIL SHAMIM  02-134201-055  6th Semester   \n",
       "2  17/12/2022 16:08   NaN        Umer Arshad            NaN  7th Semester   \n",
       "3  17/12/2022 16:29   NaN  Muhammad Shehroz   02-134201-075  6th Semester   \n",
       "4  17/12/2022 16:31   NaN    Tooba Iftikhar   02-112222-121   1st Semster   \n",
       "\n",
       "                Depart    Distance Satisfied  \\\n",
       "0              BSCS/IT  Not so far        No   \n",
       "1              BSCS/IT        Near     Maybe   \n",
       "2  Management Sciences  Not so far        No   \n",
       "3              BSCS/IT         Far        No   \n",
       "4   Accounts & Finance        Near        No   \n",
       "\n",
       "                                              Reason  \\\n",
       "0  Because they just have brunch items and too ma...   \n",
       "1                                                NaN   \n",
       "2  Too many options but none of them for breakfast.    \n",
       "3  There's probably nothing to eat, and the thing...   \n",
       "4                                Prices are so high    \n",
       "\n",
       "                         Where_have_breakfast  \\\n",
       "0  sometimes at home, sometimes at university   \n",
       "1  sometimes at home, sometimes at university   \n",
       "2  sometimes at home, sometimes at university   \n",
       "3  sometimes at home, sometimes at university   \n",
       "4  sometimes at home, sometimes at university   \n",
       "\n",
       "                                     If_not_home_why BreakfastMenu_at_cafe  \\\n",
       "0        Make my own breakfast and eat in university                   Yes   \n",
       "1                Get up just in time to get to class                   Yes   \n",
       "2                Get up just in time to get to class                   Yes   \n",
       "3  Don't like asking mom or anyone to make it eve...                   Yes   \n",
       "4                Get up just in time to get to class                   Yes   \n",
       "\n",
       "                                                Menu    price      time  \n",
       "0                      Anda Paratha, Toast & Omlette  150-200  7am-11am  \n",
       "1                        Toast & Omlette, Halwa puri  200-250  7am-11am  \n",
       "2              Anda Paratha, Toast & Omlette, Coffee  150-200  7am-11am  \n",
       "3              Anda Paratha, Toast & Omlette, Coffee  200-250  7am-10am  \n",
       "4  Anda Paratha, Toast & Omlette, Coffee, Halwa puri  150-200  8am-11am  "
      ]
     },
     "execution_count": 5,
     "metadata": {},
     "output_type": "execute_result"
    }
   ],
   "source": [
    "df.head()"
   ]
  },
  {
   "cell_type": "code",
   "execution_count": 6,
   "metadata": {
    "id": "fupn4C4qXOGD"
   },
   "outputs": [],
   "source": [
    "df['Timestamp'] = pd.to_datetime(df.Timestamp)"
   ]
  },
  {
   "cell_type": "code",
   "execution_count": 7,
   "metadata": {
    "id": "o1Fk2WKNXQsF"
   },
   "outputs": [],
   "source": [
    "df['day'] = pd.Series(df.Timestamp).dt.day_name()"
   ]
  },
  {
   "cell_type": "code",
   "execution_count": 8,
   "metadata": {
    "id": "2QkMgXsUV5z-"
   },
   "outputs": [],
   "source": [
    "df=df[['Name','Semester','Enrollment','Distance','Satisfied','Reason','Where_have_breakfast','If_not_home_why','BreakfastMenu_at_cafe',\n",
    "       'Menu','price','time']]"
   ]
  },
  {
   "cell_type": "code",
   "execution_count": 9,
   "metadata": {
    "colab": {
     "base_uri": "https://localhost:8080/",
     "height": 658
    },
    "id": "yj3a3RyiXWvB",
    "outputId": "3da39222-2765-49be-b58f-2dd69d226416"
   },
   "outputs": [
    {
     "data": {
      "text/html": [
       "<div>\n",
       "<style scoped>\n",
       "    .dataframe tbody tr th:only-of-type {\n",
       "        vertical-align: middle;\n",
       "    }\n",
       "\n",
       "    .dataframe tbody tr th {\n",
       "        vertical-align: top;\n",
       "    }\n",
       "\n",
       "    .dataframe thead th {\n",
       "        text-align: right;\n",
       "    }\n",
       "</style>\n",
       "<table border=\"1\" class=\"dataframe\">\n",
       "  <thead>\n",
       "    <tr style=\"text-align: right;\">\n",
       "      <th></th>\n",
       "      <th>Name</th>\n",
       "      <th>Semester</th>\n",
       "      <th>Enrollment</th>\n",
       "      <th>Distance</th>\n",
       "      <th>Satisfied</th>\n",
       "      <th>Reason</th>\n",
       "      <th>Where_have_breakfast</th>\n",
       "      <th>If_not_home_why</th>\n",
       "      <th>BreakfastMenu_at_cafe</th>\n",
       "      <th>Menu</th>\n",
       "      <th>price</th>\n",
       "      <th>time</th>\n",
       "    </tr>\n",
       "  </thead>\n",
       "  <tbody>\n",
       "    <tr>\n",
       "      <th>0</th>\n",
       "      <td>Awais Arshad</td>\n",
       "      <td>6th Semester</td>\n",
       "      <td>02-134201-038</td>\n",
       "      <td>Not so far</td>\n",
       "      <td>No</td>\n",
       "      <td>Because they just have brunch items and too ma...</td>\n",
       "      <td>sometimes at home, sometimes at university</td>\n",
       "      <td>Make my own breakfast and eat in university</td>\n",
       "      <td>Yes</td>\n",
       "      <td>Anda Paratha, Toast &amp; Omlette</td>\n",
       "      <td>150-200</td>\n",
       "      <td>7am-11am</td>\n",
       "    </tr>\n",
       "    <tr>\n",
       "      <th>1</th>\n",
       "      <td>MANAHIL SHAMIM</td>\n",
       "      <td>6th Semester</td>\n",
       "      <td>02-134201-055</td>\n",
       "      <td>Near</td>\n",
       "      <td>Maybe</td>\n",
       "      <td>NaN</td>\n",
       "      <td>sometimes at home, sometimes at university</td>\n",
       "      <td>Get up just in time to get to class</td>\n",
       "      <td>Yes</td>\n",
       "      <td>Toast &amp; Omlette, Halwa puri</td>\n",
       "      <td>200-250</td>\n",
       "      <td>7am-11am</td>\n",
       "    </tr>\n",
       "    <tr>\n",
       "      <th>2</th>\n",
       "      <td>Umer Arshad</td>\n",
       "      <td>7th Semester</td>\n",
       "      <td>NaN</td>\n",
       "      <td>Not so far</td>\n",
       "      <td>No</td>\n",
       "      <td>Too many options but none of them for breakfast.</td>\n",
       "      <td>sometimes at home, sometimes at university</td>\n",
       "      <td>Get up just in time to get to class</td>\n",
       "      <td>Yes</td>\n",
       "      <td>Anda Paratha, Toast &amp; Omlette, Coffee</td>\n",
       "      <td>150-200</td>\n",
       "      <td>7am-11am</td>\n",
       "    </tr>\n",
       "    <tr>\n",
       "      <th>3</th>\n",
       "      <td>Muhammad Shehroz</td>\n",
       "      <td>6th Semester</td>\n",
       "      <td>02-134201-075</td>\n",
       "      <td>Far</td>\n",
       "      <td>No</td>\n",
       "      <td>There's probably nothing to eat, and the thing...</td>\n",
       "      <td>sometimes at home, sometimes at university</td>\n",
       "      <td>Don't like asking mom or anyone to make it eve...</td>\n",
       "      <td>Yes</td>\n",
       "      <td>Anda Paratha, Toast &amp; Omlette, Coffee</td>\n",
       "      <td>200-250</td>\n",
       "      <td>7am-10am</td>\n",
       "    </tr>\n",
       "    <tr>\n",
       "      <th>4</th>\n",
       "      <td>Tooba Iftikhar</td>\n",
       "      <td>1st Semster</td>\n",
       "      <td>02-112222-121</td>\n",
       "      <td>Near</td>\n",
       "      <td>No</td>\n",
       "      <td>Prices are so high</td>\n",
       "      <td>sometimes at home, sometimes at university</td>\n",
       "      <td>Get up just in time to get to class</td>\n",
       "      <td>Yes</td>\n",
       "      <td>Anda Paratha, Toast &amp; Omlette, Coffee, Halwa puri</td>\n",
       "      <td>150-200</td>\n",
       "      <td>8am-11am</td>\n",
       "    </tr>\n",
       "    <tr>\n",
       "      <th>...</th>\n",
       "      <td>...</td>\n",
       "      <td>...</td>\n",
       "      <td>...</td>\n",
       "      <td>...</td>\n",
       "      <td>...</td>\n",
       "      <td>...</td>\n",
       "      <td>...</td>\n",
       "      <td>...</td>\n",
       "      <td>...</td>\n",
       "      <td>...</td>\n",
       "      <td>...</td>\n",
       "      <td>...</td>\n",
       "    </tr>\n",
       "    <tr>\n",
       "      <th>220</th>\n",
       "      <td>Nafay Ur Rehman</td>\n",
       "      <td>6th Semester</td>\n",
       "      <td>02-134201-042</td>\n",
       "      <td>Far</td>\n",
       "      <td>No</td>\n",
       "      <td>High Prices and Low quality</td>\n",
       "      <td>At home</td>\n",
       "      <td>NaN</td>\n",
       "      <td>No</td>\n",
       "      <td>Halwa puri</td>\n",
       "      <td>150-200</td>\n",
       "      <td>8am-11am</td>\n",
       "    </tr>\n",
       "    <tr>\n",
       "      <th>221</th>\n",
       "      <td>Haris Musa</td>\n",
       "      <td>6th Semester</td>\n",
       "      <td>02-134201-020</td>\n",
       "      <td>Near</td>\n",
       "      <td>No</td>\n",
       "      <td>Most of the stuff isn't fresh</td>\n",
       "      <td>At home</td>\n",
       "      <td>NaN</td>\n",
       "      <td>Yes</td>\n",
       "      <td>Anda Paratha, Toast &amp; Omlette, Halwa puri</td>\n",
       "      <td>150-200</td>\n",
       "      <td>7am-11am</td>\n",
       "    </tr>\n",
       "    <tr>\n",
       "      <th>222</th>\n",
       "      <td>Rehmat</td>\n",
       "      <td>6th Semester</td>\n",
       "      <td>02-134201-013</td>\n",
       "      <td>Far</td>\n",
       "      <td>Maybe</td>\n",
       "      <td>NaN</td>\n",
       "      <td>sometimes at home, sometimes at university</td>\n",
       "      <td>Get up just in time to get to class</td>\n",
       "      <td>No</td>\n",
       "      <td>Anda Paratha, Toast &amp; Omlette, Coffee</td>\n",
       "      <td>200-250</td>\n",
       "      <td>7am-10am</td>\n",
       "    </tr>\n",
       "    <tr>\n",
       "      <th>223</th>\n",
       "      <td>Fatima butt</td>\n",
       "      <td>6th Semester</td>\n",
       "      <td>02-134201-037</td>\n",
       "      <td>Far</td>\n",
       "      <td>No</td>\n",
       "      <td>NaN</td>\n",
       "      <td>sometimes at home, sometimes at university</td>\n",
       "      <td>NaN</td>\n",
       "      <td>Yes</td>\n",
       "      <td>Halwa puri</td>\n",
       "      <td>150-200</td>\n",
       "      <td>8am-11am</td>\n",
       "    </tr>\n",
       "    <tr>\n",
       "      <th>224</th>\n",
       "      <td>Imaan shahid</td>\n",
       "      <td>6th Semester</td>\n",
       "      <td>02-134201-009</td>\n",
       "      <td>Not so far</td>\n",
       "      <td>Maybe</td>\n",
       "      <td>NaN</td>\n",
       "      <td>sometimes at home, sometimes at university</td>\n",
       "      <td>NaN</td>\n",
       "      <td>Yes</td>\n",
       "      <td>Anda Paratha, Toast &amp; Omlette</td>\n",
       "      <td>200-250</td>\n",
       "      <td>7am-11am</td>\n",
       "    </tr>\n",
       "  </tbody>\n",
       "</table>\n",
       "<p>225 rows × 12 columns</p>\n",
       "</div>"
      ],
      "text/plain": [
       "                  Name      Semester     Enrollment    Distance Satisfied  \\\n",
       "0         Awais Arshad  6th Semester  02-134201-038  Not so far        No   \n",
       "1       MANAHIL SHAMIM  6th Semester  02-134201-055        Near     Maybe   \n",
       "2          Umer Arshad  7th Semester            NaN  Not so far        No   \n",
       "3    Muhammad Shehroz   6th Semester  02-134201-075         Far        No   \n",
       "4      Tooba Iftikhar    1st Semster  02-112222-121        Near        No   \n",
       "..                 ...           ...            ...         ...       ...   \n",
       "220    Nafay Ur Rehman  6th Semester  02-134201-042         Far        No   \n",
       "221         Haris Musa  6th Semester  02-134201-020        Near        No   \n",
       "222            Rehmat   6th Semester  02-134201-013         Far     Maybe   \n",
       "223       Fatima butt   6th Semester  02-134201-037         Far        No   \n",
       "224      Imaan shahid   6th Semester  02-134201-009  Not so far     Maybe   \n",
       "\n",
       "                                                Reason  \\\n",
       "0    Because they just have brunch items and too ma...   \n",
       "1                                                  NaN   \n",
       "2    Too many options but none of them for breakfast.    \n",
       "3    There's probably nothing to eat, and the thing...   \n",
       "4                                  Prices are so high    \n",
       "..                                                 ...   \n",
       "220                       High Prices and Low quality    \n",
       "221                      Most of the stuff isn't fresh   \n",
       "222                                                NaN   \n",
       "223                                                NaN   \n",
       "224                                                NaN   \n",
       "\n",
       "                           Where_have_breakfast  \\\n",
       "0    sometimes at home, sometimes at university   \n",
       "1    sometimes at home, sometimes at university   \n",
       "2    sometimes at home, sometimes at university   \n",
       "3    sometimes at home, sometimes at university   \n",
       "4    sometimes at home, sometimes at university   \n",
       "..                                          ...   \n",
       "220                                     At home   \n",
       "221                                     At home   \n",
       "222  sometimes at home, sometimes at university   \n",
       "223  sometimes at home, sometimes at university   \n",
       "224  sometimes at home, sometimes at university   \n",
       "\n",
       "                                       If_not_home_why BreakfastMenu_at_cafe  \\\n",
       "0          Make my own breakfast and eat in university                   Yes   \n",
       "1                  Get up just in time to get to class                   Yes   \n",
       "2                  Get up just in time to get to class                   Yes   \n",
       "3    Don't like asking mom or anyone to make it eve...                   Yes   \n",
       "4                  Get up just in time to get to class                   Yes   \n",
       "..                                                 ...                   ...   \n",
       "220                                                NaN                    No   \n",
       "221                                                NaN                   Yes   \n",
       "222                Get up just in time to get to class                    No   \n",
       "223                                                NaN                   Yes   \n",
       "224                                                NaN                   Yes   \n",
       "\n",
       "                                                  Menu    price      time  \n",
       "0                        Anda Paratha, Toast & Omlette  150-200  7am-11am  \n",
       "1                          Toast & Omlette, Halwa puri  200-250  7am-11am  \n",
       "2                Anda Paratha, Toast & Omlette, Coffee  150-200  7am-11am  \n",
       "3                Anda Paratha, Toast & Omlette, Coffee  200-250  7am-10am  \n",
       "4    Anda Paratha, Toast & Omlette, Coffee, Halwa puri  150-200  8am-11am  \n",
       "..                                                 ...      ...       ...  \n",
       "220                                         Halwa puri  150-200  8am-11am  \n",
       "221          Anda Paratha, Toast & Omlette, Halwa puri  150-200  7am-11am  \n",
       "222              Anda Paratha, Toast & Omlette, Coffee  200-250  7am-10am  \n",
       "223                                         Halwa puri  150-200  8am-11am  \n",
       "224                      Anda Paratha, Toast & Omlette  200-250  7am-11am  \n",
       "\n",
       "[225 rows x 12 columns]"
      ]
     },
     "execution_count": 9,
     "metadata": {},
     "output_type": "execute_result"
    }
   ],
   "source": [
    "df"
   ]
  },
  {
   "cell_type": "code",
   "execution_count": 10,
   "metadata": {
    "colab": {
     "base_uri": "https://localhost:8080/"
    },
    "id": "IeHUGkgyXefu",
    "outputId": "a2f73f44-ef7e-4071-e90e-76f19ab44de3"
   },
   "outputs": [
    {
     "name": "stdout",
     "output_type": "stream",
     "text": [
      "<class 'pandas.core.frame.DataFrame'>\n",
      "RangeIndex: 225 entries, 0 to 224\n",
      "Data columns (total 12 columns):\n",
      " #   Column                 Non-Null Count  Dtype \n",
      "---  ------                 --------------  ----- \n",
      " 0   Name                   225 non-null    object\n",
      " 1   Semester               225 non-null    object\n",
      " 2   Enrollment             224 non-null    object\n",
      " 3   Distance               225 non-null    object\n",
      " 4   Satisfied              225 non-null    object\n",
      " 5   Reason                 138 non-null    object\n",
      " 6   Where_have_breakfast   225 non-null    object\n",
      " 7   If_not_home_why        152 non-null    object\n",
      " 8   BreakfastMenu_at_cafe  225 non-null    object\n",
      " 9   Menu                   225 non-null    object\n",
      " 10  price                  225 non-null    object\n",
      " 11  time                   225 non-null    object\n",
      "dtypes: object(12)\n",
      "memory usage: 21.2+ KB\n"
     ]
    }
   ],
   "source": [
    "df.info()"
   ]
  },
  {
   "cell_type": "code",
   "execution_count": 11,
   "metadata": {
    "colab": {
     "base_uri": "https://localhost:8080/"
    },
    "id": "_OJ9itY0XmG_",
    "outputId": "1aa13592-f519-48e2-dd2c-11455fe44129"
   },
   "outputs": [
    {
     "data": {
      "text/plain": [
       "(225, 12)"
      ]
     },
     "execution_count": 11,
     "metadata": {},
     "output_type": "execute_result"
    }
   ],
   "source": [
    "df.shape"
   ]
  },
  {
   "cell_type": "code",
   "execution_count": 12,
   "metadata": {
    "colab": {
     "base_uri": "https://localhost:8080/",
     "height": 236
    },
    "id": "mGiVsxlAXrIh",
    "outputId": "e0cc967a-e6c6-4d73-f325-0a37fa4f48b2"
   },
   "outputs": [
    {
     "data": {
      "text/html": [
       "<div>\n",
       "<style scoped>\n",
       "    .dataframe tbody tr th:only-of-type {\n",
       "        vertical-align: middle;\n",
       "    }\n",
       "\n",
       "    .dataframe tbody tr th {\n",
       "        vertical-align: top;\n",
       "    }\n",
       "\n",
       "    .dataframe thead th {\n",
       "        text-align: right;\n",
       "    }\n",
       "</style>\n",
       "<table border=\"1\" class=\"dataframe\">\n",
       "  <thead>\n",
       "    <tr style=\"text-align: right;\">\n",
       "      <th></th>\n",
       "      <th>Name</th>\n",
       "      <th>Semester</th>\n",
       "      <th>Enrollment</th>\n",
       "      <th>Distance</th>\n",
       "      <th>Satisfied</th>\n",
       "      <th>Reason</th>\n",
       "      <th>Where_have_breakfast</th>\n",
       "      <th>If_not_home_why</th>\n",
       "      <th>BreakfastMenu_at_cafe</th>\n",
       "      <th>Menu</th>\n",
       "      <th>price</th>\n",
       "      <th>time</th>\n",
       "    </tr>\n",
       "  </thead>\n",
       "  <tbody>\n",
       "    <tr>\n",
       "      <th>count</th>\n",
       "      <td>225</td>\n",
       "      <td>225</td>\n",
       "      <td>224</td>\n",
       "      <td>225</td>\n",
       "      <td>225</td>\n",
       "      <td>138</td>\n",
       "      <td>225</td>\n",
       "      <td>152</td>\n",
       "      <td>225</td>\n",
       "      <td>225</td>\n",
       "      <td>225</td>\n",
       "      <td>225</td>\n",
       "    </tr>\n",
       "    <tr>\n",
       "      <th>unique</th>\n",
       "      <td>218</td>\n",
       "      <td>8</td>\n",
       "      <td>222</td>\n",
       "      <td>3</td>\n",
       "      <td>3</td>\n",
       "      <td>137</td>\n",
       "      <td>3</td>\n",
       "      <td>4</td>\n",
       "      <td>2</td>\n",
       "      <td>15</td>\n",
       "      <td>4</td>\n",
       "      <td>4</td>\n",
       "    </tr>\n",
       "    <tr>\n",
       "      <th>top</th>\n",
       "      <td>Maryam</td>\n",
       "      <td>4th Semester</td>\n",
       "      <td>02-134201-075</td>\n",
       "      <td>Far</td>\n",
       "      <td>No</td>\n",
       "      <td>-</td>\n",
       "      <td>sometimes at home, sometimes at university</td>\n",
       "      <td>Get up just in time to get to class</td>\n",
       "      <td>Yes</td>\n",
       "      <td>Anda Paratha, Toast &amp; Omlette, Coffee, Halwa puri</td>\n",
       "      <td>150-200</td>\n",
       "      <td>8am-11am</td>\n",
       "    </tr>\n",
       "    <tr>\n",
       "      <th>freq</th>\n",
       "      <td>3</td>\n",
       "      <td>42</td>\n",
       "      <td>2</td>\n",
       "      <td>96</td>\n",
       "      <td>132</td>\n",
       "      <td>2</td>\n",
       "      <td>109</td>\n",
       "      <td>81</td>\n",
       "      <td>203</td>\n",
       "      <td>51</td>\n",
       "      <td>170</td>\n",
       "      <td>116</td>\n",
       "    </tr>\n",
       "  </tbody>\n",
       "</table>\n",
       "</div>"
      ],
      "text/plain": [
       "          Name      Semester     Enrollment Distance Satisfied Reason  \\\n",
       "count      225           225            224      225       225    138   \n",
       "unique     218             8            222        3         3    137   \n",
       "top     Maryam  4th Semester  02-134201-075      Far        No      -   \n",
       "freq         3            42              2       96       132      2   \n",
       "\n",
       "                              Where_have_breakfast  \\\n",
       "count                                          225   \n",
       "unique                                           3   \n",
       "top     sometimes at home, sometimes at university   \n",
       "freq                                           109   \n",
       "\n",
       "                            If_not_home_why BreakfastMenu_at_cafe  \\\n",
       "count                                   152                   225   \n",
       "unique                                    4                     2   \n",
       "top     Get up just in time to get to class                   Yes   \n",
       "freq                                     81                   203   \n",
       "\n",
       "                                                     Menu    price      time  \n",
       "count                                                 225      225       225  \n",
       "unique                                                 15        4         4  \n",
       "top     Anda Paratha, Toast & Omlette, Coffee, Halwa puri  150-200  8am-11am  \n",
       "freq                                                   51      170       116  "
      ]
     },
     "execution_count": 12,
     "metadata": {},
     "output_type": "execute_result"
    }
   ],
   "source": [
    "df.describe()"
   ]
  },
  {
   "cell_type": "code",
   "execution_count": 16,
   "metadata": {
    "colab": {
     "base_uri": "https://localhost:8080/"
    },
    "id": "4APtZCwQXtR5",
    "outputId": "c8730e96-f352-4086-9ed0-1afc572300d0"
   },
   "outputs": [
    {
     "data": {
      "text/plain": [
       "Name                      0\n",
       "Semester                  0\n",
       "Enrollment                1\n",
       "Distance                  0\n",
       "Satisfied                 0\n",
       "Reason                   87\n",
       "Where_have_breakfast      0\n",
       "If_not_home_why          73\n",
       "BreakfastMenu_at_cafe     0\n",
       "Menu                      0\n",
       "price                     0\n",
       "time                      0\n",
       "dtype: int64"
      ]
     },
     "execution_count": 16,
     "metadata": {},
     "output_type": "execute_result"
    }
   ],
   "source": [
    "df.isnull().sum()"
   ]
  },
  {
   "cell_type": "code",
   "execution_count": 22,
   "metadata": {},
   "outputs": [],
   "source": [
    "df2=df.dropna()"
   ]
  },
  {
   "cell_type": "code",
   "execution_count": 30,
   "metadata": {},
   "outputs": [
    {
     "data": {
      "text/plain": [
       "(94, 12)"
      ]
     },
     "execution_count": 30,
     "metadata": {},
     "output_type": "execute_result"
    }
   ],
   "source": [
    "df2.shape"
   ]
  },
  {
   "cell_type": "code",
   "execution_count": 23,
   "metadata": {},
   "outputs": [
    {
     "data": {
      "text/plain": [
       "Name                     0\n",
       "Semester                 0\n",
       "Enrollment               0\n",
       "Distance                 0\n",
       "Satisfied                0\n",
       "Reason                   0\n",
       "Where_have_breakfast     0\n",
       "If_not_home_why          0\n",
       "BreakfastMenu_at_cafe    0\n",
       "Menu                     0\n",
       "price                    0\n",
       "time                     0\n",
       "dtype: int64"
      ]
     },
     "execution_count": 23,
     "metadata": {},
     "output_type": "execute_result"
    }
   ],
   "source": [
    "df2.isnull().sum()"
   ]
  },
  {
   "cell_type": "code",
   "execution_count": 40,
   "metadata": {
    "id": "zaN8K2GkX0A1"
   },
   "outputs": [],
   "source": [
    "Services=df.groupby(['Satisfied','Reason','Where_have_breakfast',\n",
    "                     'BreakfastMenu_at_cafe','Menu','price','time']).count()\n",
    "Services\n",
    " \n",
    "sem=df.groupby([\"Semester\"])\n"
   ]
  },
  {
   "cell_type": "code",
   "execution_count": 41,
   "metadata": {
    "id": "FhnD_Jhi4yUb"
   },
   "outputs": [],
   "source": [
    "Services.reset_index(inplace = True)"
   ]
  },
  {
   "cell_type": "code",
   "execution_count": 42,
   "metadata": {
    "colab": {
     "base_uri": "https://localhost:8080/",
     "height": 759
    },
    "id": "hOt8Md5yc_7a",
    "outputId": "d21a584a-9f45-497e-a1dd-ce08dcf3803e"
   },
   "outputs": [
    {
     "data": {
      "image/png": "[encoded data removed]",
      "text/plain": [
       "<Figure size 1500x500 with 1 Axes>"
      ]
     },
     "metadata": {},
     "output_type": "display_data"
    }
   ],
   "source": [
    "plt.style.use('seaborn-dark')\n",
    "plt.figure(figsize=(15,5))\n",
    "\n",
    "\n",
    "sns.countplot(df['Menu'])\n",
    "plt.xticks(rotation= 90)\n",
    "plt.show()"
   ]
  },
  {
   "cell_type": "code",
   "execution_count": 44,
   "metadata": {
    "colab": {
     "base_uri": "https://localhost:8080/"
    },
    "id": "bZJJBUdw7bHE",
    "outputId": "5993293f-a781-444f-cc1a-e4e08c0b68ef"
   },
   "outputs": [
    {
     "data": {
      "text/plain": [
       "1    203\n",
       "0     22\n",
       "Name: BreakfastMenu_at_cafe, dtype: int64"
      ]
     },
     "execution_count": 44,
     "metadata": {},
     "output_type": "execute_result"
    }
   ],
   "source": [
    " df[\"BreakfastMenu_at_cafe\"].value_counts()"
   ]
  },
  {
   "cell_type": "code",
   "execution_count": 45,
   "metadata": {
    "colab": {
     "base_uri": "https://localhost:8080/",
     "height": 465
    },
    "id": "KpCYeU0G9Kjx",
    "outputId": "0fc2c389-0682-437f-f461-dd702472e4d7"
   },
   "outputs": [
    {
     "data": {
      "image/png": "[encoded data removed]",
      "text/plain": [
       "<Figure size 500x500 with 1 Axes>"
      ]
     },
     "metadata": {},
     "output_type": "display_data"
    }
   ],
   "source": [
    "plt.style.use('default')\n",
    "\n",
    "\n",
    "plt.figure(figsize=(5,5))\n",
    "sns.countplot(x= df['Satisfied'] ,palette='bright')\n",
    "plt.show()"
   ]
  },
  {
   "cell_type": "code",
   "execution_count": 47,
   "metadata": {
    "colab": {
     "base_uri": "https://localhost:8080/",
     "height": 807
    },
    "id": "RGrD793ZCPxh",
    "outputId": "197a3d86-069c-4234-dbb4-b460ccc1b1f2"
   },
   "outputs": [
    {
     "data": {
      "image/png": "[encoded data removed]",
      "text/plain": [
       "<Figure size 1000x800 with 1 Axes>"
      ]
     },
     "metadata": {},
     "output_type": "display_data"
    }
   ],
   "source": [
    "plt.figure(figsize=(10,8))\n",
    "for i, column in enumerate(Services):\n",
    "    sns.countplot(data=df, x=column)\n",
    "    plt.title(f'Can the {column} \\n matter in having breakfast at university?')\n",
    "    plt.tight_layout()"
   ]
  },
  {
   "cell_type": "code",
   "execution_count": 48,
   "metadata": {
    "id": "IeYB7Ggom75t"
   },
   "outputs": [],
   "source": [
    "from sklearn import preprocessing\n",
    "\n",
    "le=preprocessing.LabelEncoder()\n",
    "\n",
    "\n",
    "df[\"Distance\"]=le.fit_transform(df[\"Distance\"])\n",
    "df[\"Semester\"]=le.fit_transform(df[\"Semester\"])\n",
    "df[\"If_not_home_why\"]=le.fit_transform(df[\"If_not_home_why\"])"
   ]
  },
  {
   "cell_type": "code",
   "execution_count": 49,
   "metadata": {
    "id": "8AcI1Gk0m8Gm"
   },
   "outputs": [],
   "source": [
    "# Replace the string value to number\n",
    "df = df.replace(['150-200', '200-250', '250-300', '300-350'], [1,2,3,4])\n",
    "df = df.replace(['Yes', 'No', 'Maybe'], [1, 0, 2])\n",
    "df = df.replace(['7am-9am', '7am-10am', '7am-11am', '8am-11am'], [1,2,3,4])\n",
    "df = df.replace(['At home', 'In university','sometimes at home, sometimes at university'], [1,2,3])"
   ]
  },
  {
   "cell_type": "code",
   "execution_count": 50,
   "metadata": {
    "id": "cEPmIYVlBktV"
   },
   "outputs": [],
   "source": [
    "from sklearn.ensemble import RandomForestClassifier\n",
    "from sklearn.model_selection import train_test_split\n",
    "from sklearn.metrics import classification_report, accuracy_score, confusion_matrix\n",
    "from sklearn.preprocessing import LabelEncoder\n",
    "from sklearn.feature_selection import chi2\n",
    "\n",
    "\n",
    "RFC = RandomForestClassifier(n_estimators=500)\n",
    "\n",
    "x = df.drop(columns=['Name', 'Semester','Reason','Enrollment','Menu','BreakfastMenu_at_cafe'])\n",
    "y = df['BreakfastMenu_at_cafe']\n",
    "\n",
    "X_train, X_test, y_train, y_test = train_test_split(x, y, test_size=0.2, stratify=y) \n",
    "\n",
    "RFC.fit(X_train, y_train)\n",
    "\n",
    "y_pred=RFC.predict(X_test)"
   ]
  },
  {
   "cell_type": "code",
   "execution_count": 51,
   "metadata": {
    "colab": {
     "base_uri": "https://localhost:8080/"
    },
    "id": "8-n_Uvw0pnEp",
    "outputId": "0918734b-674b-4102-f101-8197c67c7c3f"
   },
   "outputs": [
    {
     "name": "stdout",
     "output_type": "stream",
     "text": [
      "Confusion Matrix:\n",
      " [[ 0  4]\n",
      " [ 2 39]] \n",
      "\n",
      "Accuracy Score:\n",
      " 0.8666666666666667 \n",
      "\n",
      "Classification Report:\n",
      "               precision    recall  f1-score   support\n",
      "\n",
      "           0       0.00      0.00      0.00         4\n",
      "           1       0.91      0.95      0.93        41\n",
      "\n",
      "    accuracy                           0.87        45\n",
      "   macro avg       0.45      0.48      0.46        45\n",
      "weighted avg       0.83      0.87      0.85        45\n",
      "\n"
     ]
    }
   ],
   "source": [
    "print('Confusion Matrix:\\n', confusion_matrix(y_test, y_pred), '\\n')\n",
    "print('Accuracy Score:\\n', accuracy_score(y_test, y_pred), '\\n')\n",
    "print('Classification Report:\\n', classification_report(y_test, y_pred))"
   ]
  },
  {
   "cell_type": "code",
   "execution_count": 52,
   "metadata": {
    "colab": {
     "base_uri": "https://localhost:8080/",
     "height": 450
    },
    "id": "UkSNjHs7rPWU",
    "outputId": "1ce74ab3-1a88-4177-aab7-5981699f4887"
   },
   "outputs": [
    {
     "data": {
      "image/png": "[encoded data removed]",
      "text/plain": [
       "<Figure size 640x480 with 1 Axes>"
      ]
     },
     "metadata": {},
     "output_type": "display_data"
    }
   ],
   "source": [
    "feature_importance = np.array(RFC.feature_importances_)\n",
    "feature_names = np.array(x.columns)\n",
    "\n",
    "#Create a DataFrame using a Dictionary\n",
    "data={'feature_names':feature_names,'feature_importance':feature_importance}\n",
    "fi_df = pd.DataFrame(data)\n",
    "\n",
    "#Sort the DataFrame in order decreasing feature importance\n",
    "fi_df.sort_values(by=['feature_importance'], ascending=False,inplace=True)\n",
    "sns.barplot(data=fi_df[:20], y='feature_names', x='feature_importance')\n",
    "plt.show()"
   ]
  },
  {
   "cell_type": "code",
   "execution_count": null,
   "metadata": {},
   "outputs": [],
   "source": []
  }
 ],
 "metadata": {
  "colab": {
   "provenance": []
  },
  "kernelspec": {
   "display_name": "Python 3 (ipykernel)",
   "language": "python",
   "name": "python3"
  },
  "language_info": {
   "codemirror_mode": {
    "name": "ipython",
    "version": 3
   },
   "file_extension": ".py",
   "mimetype": "text/x-python",
   "name": "python",
   "nbconvert_exporter": "python",
   "pygments_lexer": "ipython3",
   "version": "3.9.7"
  }
 },
 "nbformat": 4,
 "nbformat_minor": 1
}
